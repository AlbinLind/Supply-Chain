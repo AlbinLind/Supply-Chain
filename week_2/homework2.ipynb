{
 "cells": [
  {
   "cell_type": "markdown",
   "metadata": {},
   "source": [
    "# Wagner-Whitin Problem for DEF Product Ordering\n",
    "\n",
    "The goal of this exercise is to write code to solve the Wagner-Whitin problem using dynamic programming. CHEMOCO also orders another product, DEF, from a nearby supplier. For that purpose, it uses the Wagner-Whitin model.\n",
    "\n",
    "## Problem Setup\n",
    "\n",
    "Currently, the inventory on hand is 70. It is known that reordering costs 2900 euros, while the holding cost is 4 euros per unit per period. The demand for the entire year is estimated using historical averages over the last years. In Table 1, the parameters are summarized and the full data is given in the attached Excel file.\n",
    "\n",
    "### Parameters\n",
    "\n",
    "| Parameter              | Value                    | Meaning                        |\n",
    "|------------------------|--------------------------|--------------------------------|\n",
    "| K                      | 2900                     | Fixed cost                     |\n",
    "| h                      | 4                        | Holding cost                   |\n",
    "| T                      | 52                       | Horizon                        |\n",
    "| [d1, ..., dT]          | [151, 136, 144, ..., 112, 49, 92] | Forecasted/planned demand     |\n",
    "| I0                     | 70                       | Initial on-hand inventory      |\n",
    "\n",
    "**Table 1**: Parameters for the Wagner-Whitin Model.\n",
    "\n",
    "Can you find the optimal ordering policy for DEF? You may assume lead times are negligible, so ordering the goods in a particular week can immediately fulfill that week's demand. In the slides, we assumed that our `I0 = 0`, but we can modify the case of positive initial inventory (`I0 > 0`) by reducing the demand in `d1` by `I0` units. If `I0 > d1`, then the demand will be reduced in future periods until all `I0` units are accounted for. The first order is placed in the first period with non-zero revised demand, and the optimal cost for the horizon is the θ value for this period. **Note**: This approach assumes the holding cost for the initial inventory units is 0.\n",
    "\n",
    "## Tasks\n",
    "\n",
    "### 2a. Optimal Vector of Ordering Decisions\n",
    "\n",
    "- Provide the optimal vector of ordering decisions, `Q*`, and plot them over the horizon.\n",
    "- Also, provide the associated total cost.\n",
    "\n",
    "The Wagner-Whitin problem is often solved on a rolling-horizon basis. In each period, we solve a sub-instance consisting of the current period (say, `t`) through the horizon’s end (say, `t + n − 1`). In the next period, we set `I0` equal to the current on-hand inventory and re-solve the problem, this time for a sub-instance consisting of periods `t + 1` through `t + n`, and so on.\n",
    "\n",
    "It has been observed that the solution to the Wagner-Whitin problem is \"nervous,\" meaning that when we shift the horizon by one period to create the next sub-instance, the entire solution, throughout the horizon, might change.\n",
    "\n",
    "### 2b. Check for Nervousness\n",
    "\n",
    "- Choose a horizon length `n`, for example, 4 weeks (a month) or 12 weeks (a quarter), and check whether your solution is nervous.\n"
   ]
  },
  {
   "cell_type": "code",
   "execution_count": 88,
   "metadata": {},
   "outputs": [],
   "source": [
    "import pandas as pd\n",
    "\n",
    "df = pd.read_excel(\"Homework_2 (Wagner-Within-instance).xlsx\")\n",
    "K = df[\"K\"].values[0]\n",
    "h = df[\"h\"].values[0]\n",
    "T = int(df[\"T\"].values[0])\n",
    "I_0 = df[\"I_0\"].values[0]\n",
    "d_t = {t: df[f\"d{t}\"].values[0] for t in range(1,T+1)}"
   ]
  },
  {
   "cell_type": "code",
   "execution_count": 89,
   "metadata": {},
   "outputs": [],
   "source": [
    "# Change the demand in the first period to account for the initial inventory\n",
    "if d_t[1] > I_0:\n",
    "    d_t[1] -= I_0\n",
    "    I_0 = 0\n",
    "elif I_0 > 0:\n",
    "    i = 1\n",
    "    while I_0 > 0:\n",
    "        decrease_with = min(I_0, d_t[i])\n",
    "        I_0 -= decrease_with\n",
    "        d_t[i] -= decrease_with\n"
   ]
  },
  {
   "cell_type": "code",
   "execution_count": 90,
   "metadata": {},
   "outputs": [
    {
     "data": {
      "text/plain": [
       "60464"
      ]
     },
     "execution_count": 90,
     "metadata": {},
     "output_type": "execute_result"
    }
   ],
   "source": [
    "# Initialize theta_{T+1}\n",
    "import numpy as np\n",
    "\n",
    "\n",
    "theta = {T+1: 0}\n",
    "s_t = {}\n",
    "# Compute theta_t for t = T, T-1, ..., 1\n",
    "for t in range(T, 0, -1):\n",
    "    step_two_minimisation = [K + h * sum([(i - t) * d_t[i] for i in range(t, s)]) + theta[s] for s in range(t+1, T+2)]\n",
    "    theta[t] = min(step_two_minimisation)\n",
    "    order_until_t = int(np.argmin(step_two_minimisation)) + t\n",
    "    s_t[t] = order_until_t\n",
    "\n",
    "\n",
    "# Cost of optimal solution\n",
    "int(theta[1])"
   ]
  },
  {
   "cell_type": "code",
   "execution_count": 91,
   "metadata": {},
   "outputs": [
    {
     "data": {
      "text/plain": [
       "{52: 52,\n",
       " 51: 52,\n",
       " 50: 52,\n",
       " 49: 52,\n",
       " 48: 52,\n",
       " 47: 49,\n",
       " 46: 49,\n",
       " 45: 49,\n",
       " 44: 47,\n",
       " 43: 47,\n",
       " 42: 47,\n",
       " 41: 42,\n",
       " 40: 42,\n",
       " 39: 41,\n",
       " 38: 40,\n",
       " 37: 40,\n",
       " 36: 40,\n",
       " 35: 40,\n",
       " 34: 36,\n",
       " 33: 35,\n",
       " 32: 35,\n",
       " 31: 34,\n",
       " 30: 32,\n",
       " 29: 32,\n",
       " 28: 30,\n",
       " 27: 30,\n",
       " 26: 30,\n",
       " 25: 30,\n",
       " 24: 25,\n",
       " 23: 25,\n",
       " 22: 25,\n",
       " 21: 25,\n",
       " 20: 22,\n",
       " 19: 22,\n",
       " 18: 22,\n",
       " 17: 20,\n",
       " 16: 20,\n",
       " 15: 20,\n",
       " 14: 16,\n",
       " 13: 16,\n",
       " 12: 16,\n",
       " 11: 16,\n",
       " 10: 12,\n",
       " 9: 12,\n",
       " 8: 10,\n",
       " 7: 10,\n",
       " 6: 9,\n",
       " 5: 8,\n",
       " 4: 8,\n",
       " 3: 6,\n",
       " 2: 6,\n",
       " 1: 3}"
      ]
     },
     "execution_count": 91,
     "metadata": {},
     "output_type": "execute_result"
    }
   ],
   "source": [
    "s_t"
   ]
  },
  {
   "cell_type": "code",
   "execution_count": 92,
   "metadata": {},
   "outputs": [
    {
     "data": {
      "text/plain": [
       "{1: np.int64(217),\n",
       " 2: 0,\n",
       " 3: np.int64(230),\n",
       " 4: 0,\n",
       " 5: 0,\n",
       " 6: np.int64(228),\n",
       " 7: 0,\n",
       " 8: 0,\n",
       " 9: np.int64(349),\n",
       " 10: 0,\n",
       " 11: 0,\n",
       " 12: np.int64(378),\n",
       " 13: 0,\n",
       " 14: 0,\n",
       " 15: 0,\n",
       " 16: np.int64(303),\n",
       " 17: 0,\n",
       " 18: 0,\n",
       " 19: 0,\n",
       " 20: np.int64(212),\n",
       " 21: 0,\n",
       " 22: np.int64(298),\n",
       " 23: 0,\n",
       " 24: 0,\n",
       " 25: np.int64(497),\n",
       " 26: 0,\n",
       " 27: 0,\n",
       " 28: 0,\n",
       " 29: 0,\n",
       " 30: np.int64(186),\n",
       " 31: 0,\n",
       " 32: np.int64(279),\n",
       " 33: 0,\n",
       " 34: 0,\n",
       " 35: np.int64(417),\n",
       " 36: 0,\n",
       " 37: 0,\n",
       " 38: 0,\n",
       " 39: 0,\n",
       " 40: np.int64(234),\n",
       " 41: 0,\n",
       " 42: np.int64(510),\n",
       " 43: 0,\n",
       " 44: 0,\n",
       " 45: 0,\n",
       " 46: 0,\n",
       " 47: np.int64(113),\n",
       " 48: 0,\n",
       " 49: np.int64(297),\n",
       " 50: 0,\n",
       " 51: 0,\n",
       " 52: 0}"
      ]
     },
     "execution_count": 92,
     "metadata": {},
     "output_type": "execute_result"
    }
   ],
   "source": [
    "Q = {t: 0 for t in range(1, T+1)}\n",
    "next_s = 1\n",
    "while next_s < T:\n",
    "    Q[next_s] = sum([d_t[i] for i in range(next_s, s_t[next_s])])\n",
    "    if s_t[next_s] >= T:\n",
    "        Q[next_s] += d_t[T]\n",
    "        break\n",
    "    next_s = s_t[next_s]\n",
    "\n",
    "assert sum(Q.values()) == sum(d_t.values()), \"The sum of the orders (Q) and demand (d_t, adjusted for initial inventory) should be equal\"\n",
    "Q"
   ]
  },
  {
   "cell_type": "code",
   "execution_count": 93,
   "metadata": {},
   "outputs": [
    {
     "data": {
      "text/plain": [
       "Text(0.5, 1.0, 'Inventory levels over time')"
      ]
     },
     "execution_count": 93,
     "metadata": {},
     "output_type": "execute_result"
    },
    {
     "data": {
      "image/png": "[encoded data removed]",
      "text/plain": [
       "<Figure size 640x480 with 1 Axes>"
      ]
     },
     "metadata": {},
     "output_type": "display_data"
    }
   ],
   "source": [
    "import seaborn as sns\n",
    "import matplotlib.pyplot as plt\n",
    "sns.set_theme()\n",
    "\n",
    "# Plot the inventory levels\n",
    "inventory = {0: I_0}\n",
    "for t in range(1, T+1):\n",
    "    inventory[t] = inventory[t-1] + Q[t] - d_t[t]\n",
    "sns.lineplot(x=range(T+1), y=list(inventory.values()))\n",
    "plt.xlabel(\"Time\")\n",
    "plt.ylabel(\"Inventory\")\n",
    "plt.title(\"Inventory levels over time\")"
   ]
  },
  {
   "cell_type": "code",
   "execution_count": 94,
   "metadata": {},
   "outputs": [
    {
     "data": {
      "text/plain": [
       "{1: 217,\n",
       " 3: 230,\n",
       " 6: 228,\n",
       " 9: 349,\n",
       " 12: 378,\n",
       " 16: 303,\n",
       " 20: 212,\n",
       " 22: 298,\n",
       " 25: 497,\n",
       " 30: 186,\n",
       " 32: 279,\n",
       " 35: 417,\n",
       " 40: 234,\n",
       " 42: 510,\n",
       " 47: 113,\n",
       " 49: 297}"
      ]
     },
     "execution_count": 94,
     "metadata": {},
     "output_type": "execute_result"
    }
   ],
   "source": [
    "# Orders should be placed as follows\n",
    "{t: int(Q[t]) for t in range(1, T+1) if Q[t] > 0}"
   ]
  }
 ],
 "metadata": {
  "kernelspec": {
   "display_name": ".venv",
   "language": "python",
   "name": "python3"
  },
  "language_info": {
   "codemirror_mode": {
    "name": "ipython",
    "version": 3
   },
   "file_extension": ".py",
   "mimetype": "text/x-python",
   "name": "python",
   "nbconvert_exporter": "python",
   "pygments_lexer": "ipython3",
   "version": "3.11.9"
  }
 },
 "nbformat": 4,
 "nbformat_minor": 2
}
